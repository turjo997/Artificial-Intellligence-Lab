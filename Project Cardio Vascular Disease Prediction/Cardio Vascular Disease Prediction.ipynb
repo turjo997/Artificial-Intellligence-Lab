{
 "cells": [
  {
   "cell_type": "markdown",
   "id": "dc97d732",
   "metadata": {},
   "source": [
    "# Import Libraries "
   ]
  },
  {
   "cell_type": "code",
   "execution_count": 174,
   "id": "9ced3c8b",
   "metadata": {},
   "outputs": [],
   "source": [
    "import pandas as pd\n",
    "import matplotlib.pyplot as plt\n",
    "import seaborn as sns\n",
    "\n",
    "from sklearn .metrics import accuracy_score\n",
    "from sklearn.model_selection import train_test_split\n",
    "from sklearn.preprocessing import MinMaxScaler\n",
    "from sklearn.metrics import confusion_matrix\n",
    "from sklearn.metrics import classification_report\n",
    "from scipy.stats import mode\n",
    "from sklearn import metrics\n",
    "\n",
    "%matplotlib inline"
   ]
  },
  {
   "cell_type": "markdown",
   "id": "124d0458",
   "metadata": {},
   "source": [
    "# Visualize Data"
   ]
  },
  {
   "cell_type": "code",
   "execution_count": 176,
   "id": "7f5e472e",
   "metadata": {},
   "outputs": [
    {
     "data": {
      "text/html": [
       "<div>\n",
       "<style scoped>\n",
       "    .dataframe tbody tr th:only-of-type {\n",
       "        vertical-align: middle;\n",
       "    }\n",
       "\n",
       "    .dataframe tbody tr th {\n",
       "        vertical-align: top;\n",
       "    }\n",
       "\n",
       "    .dataframe thead th {\n",
       "        text-align: right;\n",
       "    }\n",
       "</style>\n",
       "<table border=\"1\" class=\"dataframe\">\n",
       "  <thead>\n",
       "    <tr style=\"text-align: right;\">\n",
       "      <th></th>\n",
       "      <th>Age</th>\n",
       "      <th>Gender</th>\n",
       "      <th>Exang</th>\n",
       "      <th>Weight</th>\n",
       "      <th>Trestbps</th>\n",
       "      <th>Thalac</th>\n",
       "      <th>Cholesterol</th>\n",
       "      <th>FastingBS</th>\n",
       "      <th>Slope</th>\n",
       "      <th>Chestpain</th>\n",
       "      <th>RestingECG</th>\n",
       "      <th>Thal</th>\n",
       "      <th>Cardio</th>\n",
       "    </tr>\n",
       "  </thead>\n",
       "  <tbody>\n",
       "    <tr>\n",
       "      <th>0</th>\n",
       "      <td>63</td>\n",
       "      <td>1</td>\n",
       "      <td>0</td>\n",
       "      <td>67.0</td>\n",
       "      <td>145</td>\n",
       "      <td>150</td>\n",
       "      <td>233</td>\n",
       "      <td>1</td>\n",
       "      <td>0</td>\n",
       "      <td>3</td>\n",
       "      <td>0</td>\n",
       "      <td>1</td>\n",
       "      <td>1</td>\n",
       "    </tr>\n",
       "    <tr>\n",
       "      <th>1</th>\n",
       "      <td>37</td>\n",
       "      <td>1</td>\n",
       "      <td>0</td>\n",
       "      <td>70.0</td>\n",
       "      <td>145</td>\n",
       "      <td>187</td>\n",
       "      <td>250</td>\n",
       "      <td>0</td>\n",
       "      <td>0</td>\n",
       "      <td>2</td>\n",
       "      <td>1</td>\n",
       "      <td>2</td>\n",
       "      <td>1</td>\n",
       "    </tr>\n",
       "    <tr>\n",
       "      <th>2</th>\n",
       "      <td>41</td>\n",
       "      <td>0</td>\n",
       "      <td>0</td>\n",
       "      <td>61.0</td>\n",
       "      <td>145</td>\n",
       "      <td>172</td>\n",
       "      <td>204</td>\n",
       "      <td>0</td>\n",
       "      <td>2</td>\n",
       "      <td>1</td>\n",
       "      <td>0</td>\n",
       "      <td>2</td>\n",
       "      <td>1</td>\n",
       "    </tr>\n",
       "    <tr>\n",
       "      <th>3</th>\n",
       "      <td>56</td>\n",
       "      <td>1</td>\n",
       "      <td>0</td>\n",
       "      <td>64.0</td>\n",
       "      <td>145</td>\n",
       "      <td>178</td>\n",
       "      <td>236</td>\n",
       "      <td>0</td>\n",
       "      <td>2</td>\n",
       "      <td>1</td>\n",
       "      <td>1</td>\n",
       "      <td>2</td>\n",
       "      <td>1</td>\n",
       "    </tr>\n",
       "    <tr>\n",
       "      <th>4</th>\n",
       "      <td>57</td>\n",
       "      <td>0</td>\n",
       "      <td>1</td>\n",
       "      <td>65.0</td>\n",
       "      <td>145</td>\n",
       "      <td>163</td>\n",
       "      <td>354</td>\n",
       "      <td>0</td>\n",
       "      <td>2</td>\n",
       "      <td>0</td>\n",
       "      <td>1</td>\n",
       "      <td>2</td>\n",
       "      <td>1</td>\n",
       "    </tr>\n",
       "    <tr>\n",
       "      <th>...</th>\n",
       "      <td>...</td>\n",
       "      <td>...</td>\n",
       "      <td>...</td>\n",
       "      <td>...</td>\n",
       "      <td>...</td>\n",
       "      <td>...</td>\n",
       "      <td>...</td>\n",
       "      <td>...</td>\n",
       "      <td>...</td>\n",
       "      <td>...</td>\n",
       "      <td>...</td>\n",
       "      <td>...</td>\n",
       "      <td>...</td>\n",
       "    </tr>\n",
       "    <tr>\n",
       "      <th>994</th>\n",
       "      <td>56</td>\n",
       "      <td>1</td>\n",
       "      <td>0</td>\n",
       "      <td>82.0</td>\n",
       "      <td>155</td>\n",
       "      <td>99</td>\n",
       "      <td>0</td>\n",
       "      <td>0</td>\n",
       "      <td>2</td>\n",
       "      <td>3</td>\n",
       "      <td>1</td>\n",
       "      <td>3</td>\n",
       "      <td>1</td>\n",
       "    </tr>\n",
       "    <tr>\n",
       "      <th>995</th>\n",
       "      <td>56</td>\n",
       "      <td>1</td>\n",
       "      <td>0</td>\n",
       "      <td>83.4</td>\n",
       "      <td>120</td>\n",
       "      <td>148</td>\n",
       "      <td>0</td>\n",
       "      <td>0</td>\n",
       "      <td>2</td>\n",
       "      <td>4</td>\n",
       "      <td>1</td>\n",
       "      <td>2</td>\n",
       "      <td>1</td>\n",
       "    </tr>\n",
       "    <tr>\n",
       "      <th>996</th>\n",
       "      <td>56</td>\n",
       "      <td>1</td>\n",
       "      <td>0</td>\n",
       "      <td>72.0</td>\n",
       "      <td>120</td>\n",
       "      <td>97</td>\n",
       "      <td>0</td>\n",
       "      <td>0</td>\n",
       "      <td>2</td>\n",
       "      <td>3</td>\n",
       "      <td>0</td>\n",
       "      <td>1</td>\n",
       "      <td>0</td>\n",
       "    </tr>\n",
       "    <tr>\n",
       "      <th>997</th>\n",
       "      <td>64</td>\n",
       "      <td>0</td>\n",
       "      <td>1</td>\n",
       "      <td>78.0</td>\n",
       "      <td>200</td>\n",
       "      <td>140</td>\n",
       "      <td>0</td>\n",
       "      <td>0</td>\n",
       "      <td>2</td>\n",
       "      <td>4</td>\n",
       "      <td>0</td>\n",
       "      <td>3</td>\n",
       "      <td>1</td>\n",
       "    </tr>\n",
       "    <tr>\n",
       "      <th>998</th>\n",
       "      <td>61</td>\n",
       "      <td>1</td>\n",
       "      <td>1</td>\n",
       "      <td>89.0</td>\n",
       "      <td>150</td>\n",
       "      <td>117</td>\n",
       "      <td>0</td>\n",
       "      <td>0</td>\n",
       "      <td>2</td>\n",
       "      <td>4</td>\n",
       "      <td>0</td>\n",
       "      <td>3</td>\n",
       "      <td>1</td>\n",
       "    </tr>\n",
       "  </tbody>\n",
       "</table>\n",
       "<p>999 rows × 13 columns</p>\n",
       "</div>"
      ],
      "text/plain": [
       "     Age  Gender  Exang  Weight  Trestbps  Thalac  Cholesterol  FastingBS  \\\n",
       "0     63       1      0    67.0       145     150          233          1   \n",
       "1     37       1      0    70.0       145     187          250          0   \n",
       "2     41       0      0    61.0       145     172          204          0   \n",
       "3     56       1      0    64.0       145     178          236          0   \n",
       "4     57       0      1    65.0       145     163          354          0   \n",
       "..   ...     ...    ...     ...       ...     ...          ...        ...   \n",
       "994   56       1      0    82.0       155      99            0          0   \n",
       "995   56       1      0    83.4       120     148            0          0   \n",
       "996   56       1      0    72.0       120      97            0          0   \n",
       "997   64       0      1    78.0       200     140            0          0   \n",
       "998   61       1      1    89.0       150     117            0          0   \n",
       "\n",
       "     Slope  Chestpain  RestingECG  Thal  Cardio  \n",
       "0        0          3           0     1       1  \n",
       "1        0          2           1     2       1  \n",
       "2        2          1           0     2       1  \n",
       "3        2          1           1     2       1  \n",
       "4        2          0           1     2       1  \n",
       "..     ...        ...         ...   ...     ...  \n",
       "994      2          3           1     3       1  \n",
       "995      2          4           1     2       1  \n",
       "996      2          3           0     1       0  \n",
       "997      2          4           0     3       1  \n",
       "998      2          4           0     3       1  \n",
       "\n",
       "[999 rows x 13 columns]"
      ]
     },
     "execution_count": 176,
     "metadata": {},
     "output_type": "execute_result"
    }
   ],
   "source": [
    "df = pd.read_csv('Cardio22.csv');\n",
    "df"
   ]
  },
  {
   "cell_type": "code",
   "execution_count": 177,
   "id": "003801a8",
   "metadata": {},
   "outputs": [
    {
     "data": {
      "text/html": [
       "<div>\n",
       "<style scoped>\n",
       "    .dataframe tbody tr th:only-of-type {\n",
       "        vertical-align: middle;\n",
       "    }\n",
       "\n",
       "    .dataframe tbody tr th {\n",
       "        vertical-align: top;\n",
       "    }\n",
       "\n",
       "    .dataframe thead th {\n",
       "        text-align: right;\n",
       "    }\n",
       "</style>\n",
       "<table border=\"1\" class=\"dataframe\">\n",
       "  <thead>\n",
       "    <tr style=\"text-align: right;\">\n",
       "      <th></th>\n",
       "      <th>Age</th>\n",
       "      <th>Gender</th>\n",
       "      <th>Exang</th>\n",
       "      <th>Weight</th>\n",
       "      <th>Trestbps</th>\n",
       "      <th>Thalac</th>\n",
       "      <th>Cholesterol</th>\n",
       "      <th>FastingBS</th>\n",
       "      <th>Slope</th>\n",
       "      <th>Chestpain</th>\n",
       "      <th>RestingECG</th>\n",
       "      <th>Thal</th>\n",
       "      <th>Cardio</th>\n",
       "    </tr>\n",
       "  </thead>\n",
       "  <tbody>\n",
       "    <tr>\n",
       "      <th>count</th>\n",
       "      <td>999.000000</td>\n",
       "      <td>999.000000</td>\n",
       "      <td>999.000000</td>\n",
       "      <td>999.000000</td>\n",
       "      <td>999.000000</td>\n",
       "      <td>999.000000</td>\n",
       "      <td>999.000000</td>\n",
       "      <td>999.000000</td>\n",
       "      <td>999.000000</td>\n",
       "      <td>999.000000</td>\n",
       "      <td>999.000000</td>\n",
       "      <td>999.000000</td>\n",
       "      <td>999.000000</td>\n",
       "    </tr>\n",
       "    <tr>\n",
       "      <th>mean</th>\n",
       "      <td>51.992993</td>\n",
       "      <td>0.696697</td>\n",
       "      <td>0.339339</td>\n",
       "      <td>70.019520</td>\n",
       "      <td>132.149149</td>\n",
       "      <td>143.604605</td>\n",
       "      <td>223.696697</td>\n",
       "      <td>0.196196</td>\n",
       "      <td>1.181181</td>\n",
       "      <td>1.625626</td>\n",
       "      <td>0.563564</td>\n",
       "      <td>1.847848</td>\n",
       "      <td>0.491491</td>\n",
       "    </tr>\n",
       "    <tr>\n",
       "      <th>std</th>\n",
       "      <td>9.303336</td>\n",
       "      <td>0.459915</td>\n",
       "      <td>0.473722</td>\n",
       "      <td>12.480175</td>\n",
       "      <td>18.272179</td>\n",
       "      <td>23.848193</td>\n",
       "      <td>84.169532</td>\n",
       "      <td>0.397318</td>\n",
       "      <td>0.728882</td>\n",
       "      <td>1.502831</td>\n",
       "      <td>0.744865</td>\n",
       "      <td>0.912435</td>\n",
       "      <td>0.500178</td>\n",
       "    </tr>\n",
       "    <tr>\n",
       "      <th>min</th>\n",
       "      <td>28.000000</td>\n",
       "      <td>0.000000</td>\n",
       "      <td>0.000000</td>\n",
       "      <td>37.500000</td>\n",
       "      <td>80.000000</td>\n",
       "      <td>71.000000</td>\n",
       "      <td>0.000000</td>\n",
       "      <td>0.000000</td>\n",
       "      <td>0.000000</td>\n",
       "      <td>0.000000</td>\n",
       "      <td>0.000000</td>\n",
       "      <td>0.000000</td>\n",
       "      <td>0.000000</td>\n",
       "    </tr>\n",
       "    <tr>\n",
       "      <th>25%</th>\n",
       "      <td>45.000000</td>\n",
       "      <td>0.000000</td>\n",
       "      <td>0.000000</td>\n",
       "      <td>61.100000</td>\n",
       "      <td>120.000000</td>\n",
       "      <td>126.000000</td>\n",
       "      <td>197.000000</td>\n",
       "      <td>0.000000</td>\n",
       "      <td>1.000000</td>\n",
       "      <td>0.000000</td>\n",
       "      <td>0.000000</td>\n",
       "      <td>1.000000</td>\n",
       "      <td>0.000000</td>\n",
       "    </tr>\n",
       "    <tr>\n",
       "      <th>50%</th>\n",
       "      <td>52.000000</td>\n",
       "      <td>1.000000</td>\n",
       "      <td>0.000000</td>\n",
       "      <td>70.100000</td>\n",
       "      <td>130.000000</td>\n",
       "      <td>145.000000</td>\n",
       "      <td>230.000000</td>\n",
       "      <td>0.000000</td>\n",
       "      <td>1.000000</td>\n",
       "      <td>2.000000</td>\n",
       "      <td>0.000000</td>\n",
       "      <td>2.000000</td>\n",
       "      <td>0.000000</td>\n",
       "    </tr>\n",
       "    <tr>\n",
       "      <th>75%</th>\n",
       "      <td>59.000000</td>\n",
       "      <td>1.000000</td>\n",
       "      <td>1.000000</td>\n",
       "      <td>78.900000</td>\n",
       "      <td>140.000000</td>\n",
       "      <td>161.000000</td>\n",
       "      <td>268.000000</td>\n",
       "      <td>0.000000</td>\n",
       "      <td>2.000000</td>\n",
       "      <td>3.000000</td>\n",
       "      <td>1.000000</td>\n",
       "      <td>3.000000</td>\n",
       "      <td>1.000000</td>\n",
       "    </tr>\n",
       "    <tr>\n",
       "      <th>max</th>\n",
       "      <td>77.000000</td>\n",
       "      <td>1.000000</td>\n",
       "      <td>1.000000</td>\n",
       "      <td>120.000000</td>\n",
       "      <td>200.000000</td>\n",
       "      <td>202.000000</td>\n",
       "      <td>603.000000</td>\n",
       "      <td>1.000000</td>\n",
       "      <td>3.000000</td>\n",
       "      <td>4.000000</td>\n",
       "      <td>2.000000</td>\n",
       "      <td>7.000000</td>\n",
       "      <td>1.000000</td>\n",
       "    </tr>\n",
       "  </tbody>\n",
       "</table>\n",
       "</div>"
      ],
      "text/plain": [
       "              Age      Gender       Exang      Weight    Trestbps      Thalac  \\\n",
       "count  999.000000  999.000000  999.000000  999.000000  999.000000  999.000000   \n",
       "mean    51.992993    0.696697    0.339339   70.019520  132.149149  143.604605   \n",
       "std      9.303336    0.459915    0.473722   12.480175   18.272179   23.848193   \n",
       "min     28.000000    0.000000    0.000000   37.500000   80.000000   71.000000   \n",
       "25%     45.000000    0.000000    0.000000   61.100000  120.000000  126.000000   \n",
       "50%     52.000000    1.000000    0.000000   70.100000  130.000000  145.000000   \n",
       "75%     59.000000    1.000000    1.000000   78.900000  140.000000  161.000000   \n",
       "max     77.000000    1.000000    1.000000  120.000000  200.000000  202.000000   \n",
       "\n",
       "       Cholesterol   FastingBS       Slope   Chestpain  RestingECG  \\\n",
       "count   999.000000  999.000000  999.000000  999.000000  999.000000   \n",
       "mean    223.696697    0.196196    1.181181    1.625626    0.563564   \n",
       "std      84.169532    0.397318    0.728882    1.502831    0.744865   \n",
       "min       0.000000    0.000000    0.000000    0.000000    0.000000   \n",
       "25%     197.000000    0.000000    1.000000    0.000000    0.000000   \n",
       "50%     230.000000    0.000000    1.000000    2.000000    0.000000   \n",
       "75%     268.000000    0.000000    2.000000    3.000000    1.000000   \n",
       "max     603.000000    1.000000    3.000000    4.000000    2.000000   \n",
       "\n",
       "             Thal      Cardio  \n",
       "count  999.000000  999.000000  \n",
       "mean     1.847848    0.491491  \n",
       "std      0.912435    0.500178  \n",
       "min      0.000000    0.000000  \n",
       "25%      1.000000    0.000000  \n",
       "50%      2.000000    0.000000  \n",
       "75%      3.000000    1.000000  \n",
       "max      7.000000    1.000000  "
      ]
     },
     "execution_count": 177,
     "metadata": {},
     "output_type": "execute_result"
    }
   ],
   "source": [
    "df.describe()"
   ]
  },
  {
   "cell_type": "markdown",
   "id": "b0d2ef1e",
   "metadata": {},
   "source": [
    "# Check if any null value is in the data set or not"
   ]
  },
  {
   "cell_type": "code",
   "execution_count": 178,
   "id": "14aaaaeb",
   "metadata": {},
   "outputs": [
    {
     "data": {
      "text/plain": [
       "Age            0\n",
       "Gender         0\n",
       "Exang          0\n",
       "Weight         0\n",
       "Trestbps       0\n",
       "Thalac         0\n",
       "Cholesterol    0\n",
       "FastingBS      0\n",
       "Slope          0\n",
       "Chestpain      0\n",
       "RestingECG     0\n",
       "Thal           0\n",
       "Cardio         0\n",
       "dtype: int64"
      ]
     },
     "execution_count": 178,
     "metadata": {},
     "output_type": "execute_result"
    }
   ],
   "source": [
    "df.isnull().sum()"
   ]
  },
  {
   "cell_type": "markdown",
   "id": "58c5169b",
   "metadata": {},
   "source": [
    "# Visualize the relationship between the features and the response using scatterplots"
   ]
  },
  {
   "cell_type": "code",
   "execution_count": 179,
   "id": "968802c1",
   "metadata": {},
   "outputs": [
    {
     "data": {
      "text/plain": [
       "Text(0.5, 1.0, 'Cardio Vascular Disease')"
      ]
     },
     "execution_count": 179,
     "metadata": {},
     "output_type": "execute_result"
    },
    {
     "data": {
      "image/png": "[encoded data removed]",
      "text/plain": [
       "<Figure size 432x288 with 1 Axes>"
      ]
     },
     "metadata": {
      "needs_background": "light"
     },
     "output_type": "display_data"
    }
   ],
   "source": [
    "plt.scatter(df[['Gender']] , df[['Cardio']] , marker ='+' , color = 'red')\n",
    "plt.xlabel('Gender')\n",
    "plt.ylabel('Cardio Predicted')\n",
    "plt.title('Cardio Vascular Disease')"
   ]
  },
  {
   "cell_type": "code",
   "execution_count": 180,
   "id": "4f0aa042",
   "metadata": {},
   "outputs": [
    {
     "data": {
      "text/plain": [
       "<seaborn.axisgrid.PairGrid at 0x2752a511250>"
      ]
     },
     "execution_count": 180,
     "metadata": {},
     "output_type": "execute_result"
    },
    {
     "data": {
      "image/png": "[encoded data removed]",
      "text/plain": [
       "<Figure size 705.6x504 with 2 Axes>"
      ]
     },
     "metadata": {
      "needs_background": "light"
     },
     "output_type": "display_data"
    }
   ],
   "source": [
    "sns.pairplot(df, x_vars=['Age','Gender'], y_vars='Cardio', height=7, aspect=0.7, kind='reg')"
   ]
  },
  {
   "cell_type": "markdown",
   "id": "a6ce8c58",
   "metadata": {},
   "source": [
    "# The basic features lies in x and the target result lies in y"
   ]
  },
  {
   "cell_type": "code",
   "execution_count": 181,
   "id": "94cd2372",
   "metadata": {},
   "outputs": [
    {
     "data": {
      "text/plain": [
       "0      1\n",
       "1      1\n",
       "2      1\n",
       "3      1\n",
       "4      1\n",
       "      ..\n",
       "994    1\n",
       "995    1\n",
       "996    0\n",
       "997    1\n",
       "998    1\n",
       "Name: Cardio, Length: 999, dtype: int64"
      ]
     },
     "execution_count": 181,
     "metadata": {},
     "output_type": "execute_result"
    }
   ],
   "source": [
    "x = df.drop(['Cardio'] , axis= 1)\n",
    "y = df['Cardio']\n",
    "y"
   ]
  },
  {
   "cell_type": "markdown",
   "id": "3f21073b",
   "metadata": {},
   "source": [
    "# Transform all the features of x using minmax scaler"
   ]
  },
  {
   "cell_type": "code",
   "execution_count": 182,
   "id": "62a652a8",
   "metadata": {},
   "outputs": [
    {
     "data": {
      "text/plain": [
       "array([[0.71428571, 1.        , 0.        , ..., 0.75      , 0.        ,\n",
       "        0.14285714],\n",
       "       [0.18367347, 1.        , 0.        , ..., 0.5       , 0.5       ,\n",
       "        0.28571429],\n",
       "       [0.26530612, 0.        , 0.        , ..., 0.25      , 0.        ,\n",
       "        0.28571429],\n",
       "       ...,\n",
       "       [0.57142857, 1.        , 0.        , ..., 0.75      , 0.        ,\n",
       "        0.14285714],\n",
       "       [0.73469388, 0.        , 1.        , ..., 1.        , 0.        ,\n",
       "        0.42857143],\n",
       "       [0.67346939, 1.        , 1.        , ..., 1.        , 0.        ,\n",
       "        0.42857143]])"
      ]
     },
     "execution_count": 182,
     "metadata": {},
     "output_type": "execute_result"
    }
   ],
   "source": [
    "MMS = MinMaxScaler(feature_range =(0, 1))\n",
    "\n",
    "x_after_min_max_scaler = MMS.fit_transform(x)\n",
    "\n",
    "x_after_min_max_scaler"
   ]
  },
  {
   "cell_type": "markdown",
   "id": "8ed166fc",
   "metadata": {},
   "source": [
    "# Split the dataset into train and test"
   ]
  },
  {
   "cell_type": "code",
   "execution_count": 118,
   "id": "8b208ffe",
   "metadata": {},
   "outputs": [],
   "source": [
    "X_train, X_test, Y_train, Y_test = train_test_split(x_after_min_max_scaler, y , random_state = 1, test_size = 0.3)"
   ]
  },
  {
   "cell_type": "markdown",
   "id": "cfa5dceb",
   "metadata": {},
   "source": [
    "# Import and initialize KNN classifier"
   ]
  },
  {
   "cell_type": "code",
   "execution_count": 119,
   "id": "82dca914",
   "metadata": {},
   "outputs": [],
   "source": [
    "from sklearn.neighbors import KNeighborsClassifier\n",
    "knn = KNeighborsClassifier(n_neighbors = 10)"
   ]
  },
  {
   "cell_type": "markdown",
   "id": "370a4d73",
   "metadata": {},
   "source": [
    "# Fit the model"
   ]
  },
  {
   "cell_type": "code",
   "execution_count": 120,
   "id": "5baffcef",
   "metadata": {},
   "outputs": [
    {
     "data": {
      "text/plain": [
       "KNeighborsClassifier(n_neighbors=10)"
      ]
     },
     "execution_count": 120,
     "metadata": {},
     "output_type": "execute_result"
    }
   ],
   "source": [
    "knn.fit(X_train, Y_train)"
   ]
  },
  {
   "cell_type": "code",
   "execution_count": 121,
   "id": "752e92a9",
   "metadata": {},
   "outputs": [
    {
     "data": {
      "text/plain": [
       "array([1, 0, 0, 1, 0, 1, 0, 0, 0, 0, 1, 0, 0, 0, 0, 1, 1, 1, 1, 1, 1, 0,\n",
       "       0, 1, 0, 0, 1, 1, 1, 0, 1, 0, 1, 0, 0, 0, 1, 1, 0, 0, 1, 0, 1, 0,\n",
       "       1, 0, 0, 0, 0, 1, 0, 1, 0, 1, 1, 0, 1, 1, 0, 0, 0, 0, 1, 0, 0, 1,\n",
       "       0, 1, 0, 0, 0, 0, 0, 1, 0, 1, 0, 1, 0, 1, 0, 1, 0, 0, 1, 0, 0, 0,\n",
       "       1, 0, 1, 1, 0, 1, 0, 1, 1, 0, 1, 0, 0, 1, 1, 1, 0, 0, 0, 1, 0, 1,\n",
       "       1, 0, 1, 0, 1, 0, 1, 0, 1, 0, 0, 0, 1, 0, 0, 0, 0, 0, 0, 0, 1, 1,\n",
       "       0, 0, 1, 0, 0, 1, 0, 0, 0, 0, 1, 0, 1, 0, 1, 0, 1, 1, 0, 1, 1, 1,\n",
       "       0, 0, 0, 1, 0, 0, 1, 0, 1, 0, 1, 0, 0, 1, 0, 0, 0, 1, 0, 1, 0, 0,\n",
       "       0, 1, 1, 1, 1, 1, 0, 0, 0, 1, 1, 0, 0, 1, 1, 0, 0, 0, 1, 0, 0, 0,\n",
       "       1, 0, 0, 1, 1, 1, 0, 0, 1, 0, 1, 1, 0, 0, 0, 0, 0, 0, 0, 1, 0, 1,\n",
       "       1, 0, 0, 0, 0, 1, 0, 0, 1, 0, 1, 0, 0, 1, 1, 1, 1, 0, 0, 1, 1, 1,\n",
       "       1, 0, 1, 1, 0, 0, 1, 0, 0, 1, 0, 1, 1, 0, 1, 0, 1, 0, 1, 1, 0, 1,\n",
       "       1, 0, 0, 0, 0, 1, 1, 0, 1, 1, 0, 1, 1, 1, 1, 1, 0, 0, 0, 0, 0, 0,\n",
       "       0, 0, 0, 1, 0, 1, 1, 0, 0, 0, 0, 1, 0, 0], dtype=int64)"
      ]
     },
     "execution_count": 121,
     "metadata": {},
     "output_type": "execute_result"
    }
   ],
   "source": [
    "y_pred = knn.predict(X_test)\n",
    "y_pred"
   ]
  },
  {
   "cell_type": "code",
   "execution_count": 122,
   "id": "33737c4d",
   "metadata": {},
   "outputs": [
    {
     "data": {
      "text/plain": [
       "0.7666666666666667"
      ]
     },
     "execution_count": 122,
     "metadata": {},
     "output_type": "execute_result"
    }
   ],
   "source": [
    "knn.score(X_test , Y_test)"
   ]
  },
  {
   "cell_type": "code",
   "execution_count": 123,
   "id": "746f5b73",
   "metadata": {},
   "outputs": [
    {
     "data": {
      "text/plain": [
       "0.7666666666666667"
      ]
     },
     "execution_count": 123,
     "metadata": {},
     "output_type": "execute_result"
    }
   ],
   "source": [
    "metrics.accuracy_score(Y_test, y_pred)"
   ]
  },
  {
   "cell_type": "markdown",
   "id": "bc68c1b8",
   "metadata": {},
   "source": [
    "# Measure Performance metrix"
   ]
  },
  {
   "cell_type": "code",
   "execution_count": 124,
   "id": "9bc5d6d6",
   "metadata": {},
   "outputs": [
    {
     "data": {
      "text/plain": [
       "array([[124,  23],\n",
       "       [ 47, 106]], dtype=int64)"
      ]
     },
     "execution_count": 124,
     "metadata": {},
     "output_type": "execute_result"
    }
   ],
   "source": [
    "cm = confusion_matrix(Y_test, y_pred)\n",
    "cm"
   ]
  },
  {
   "cell_type": "code",
   "execution_count": 125,
   "id": "f3660985",
   "metadata": {},
   "outputs": [
    {
     "name": "stdout",
     "output_type": "stream",
     "text": [
      "              precision    recall  f1-score   support\n",
      "\n",
      "           0       0.73      0.84      0.78       147\n",
      "           1       0.82      0.69      0.75       153\n",
      "\n",
      "    accuracy                           0.77       300\n",
      "   macro avg       0.77      0.77      0.77       300\n",
      "weighted avg       0.77      0.77      0.77       300\n",
      "\n"
     ]
    }
   ],
   "source": [
    "print(classification_report(Y_test , y_pred))"
   ]
  },
  {
   "cell_type": "code",
   "execution_count": 126,
   "id": "96c3e3ab",
   "metadata": {},
   "outputs": [],
   "source": [
    "# try K=1 through K=25 and record testing accuracy\n",
    "k_range = list(range(1, 26))\n",
    "scores = []\n",
    "for k in k_range:\n",
    "    knn = KNeighborsClassifier(n_neighbors=k)\n",
    "    knn.fit(X_train, Y_train)\n",
    "    y_pred = knn.predict(X_test)\n",
    "    scores.append(metrics.accuracy_score(Y_test, y_pred))"
   ]
  },
  {
   "cell_type": "code",
   "execution_count": 127,
   "id": "f27ec4d9",
   "metadata": {},
   "outputs": [
    {
     "data": {
      "text/plain": [
       "[0.7533333333333333,\n",
       " 0.7333333333333333,\n",
       " 0.7433333333333333,\n",
       " 0.7366666666666667,\n",
       " 0.7733333333333333,\n",
       " 0.7633333333333333,\n",
       " 0.7566666666666667,\n",
       " 0.73,\n",
       " 0.7733333333333333,\n",
       " 0.7666666666666667,\n",
       " 0.7533333333333333,\n",
       " 0.7466666666666667,\n",
       " 0.7533333333333333,\n",
       " 0.7466666666666667,\n",
       " 0.76,\n",
       " 0.7533333333333333,\n",
       " 0.7733333333333333,\n",
       " 0.7666666666666667,\n",
       " 0.7633333333333333,\n",
       " 0.7633333333333333,\n",
       " 0.7733333333333333,\n",
       " 0.76,\n",
       " 0.7833333333333333,\n",
       " 0.7533333333333333,\n",
       " 0.7733333333333333]"
      ]
     },
     "execution_count": 127,
     "metadata": {},
     "output_type": "execute_result"
    }
   ],
   "source": [
    "scores"
   ]
  },
  {
   "cell_type": "code",
   "execution_count": 128,
   "id": "72c81fec",
   "metadata": {},
   "outputs": [
    {
     "data": {
      "text/plain": [
       "Text(0, 0.5, 'Testing Accuracy')"
      ]
     },
     "execution_count": 128,
     "metadata": {},
     "output_type": "execute_result"
    },
    {
     "data": {
      "image/png": "[encoded data removed]",
      "text/plain": [
       "<Figure size 432x288 with 1 Axes>"
      ]
     },
     "metadata": {
      "needs_background": "light"
     },
     "output_type": "display_data"
    }
   ],
   "source": [
    "# plot the relationship between K and testing accuracy\n",
    "plt.plot(k_range, scores)\n",
    "plt.xlabel('Value of K for KNN')\n",
    "plt.ylabel('Testing Accuracy')"
   ]
  },
  {
   "cell_type": "code",
   "execution_count": 129,
   "id": "b17ab593",
   "metadata": {},
   "outputs": [
    {
     "data": {
      "text/plain": [
       "507    1\n",
       "608    1\n",
       "452    0\n",
       "368    1\n",
       "242    0\n",
       "      ..\n",
       "459    1\n",
       "415    1\n",
       "61     1\n",
       "347    1\n",
       "349    1\n",
       "Name: Cardio, Length: 300, dtype: int64"
      ]
     },
     "execution_count": 129,
     "metadata": {},
     "output_type": "execute_result"
    }
   ],
   "source": [
    "Y_test"
   ]
  },
  {
   "cell_type": "code",
   "execution_count": 130,
   "id": "b5a033a3",
   "metadata": {},
   "outputs": [
    {
     "data": {
      "text/plain": [
       "array([1, 0, 0, 1, 0, 1, 0, 0, 0, 0, 1, 0, 0, 0, 0, 1, 1, 0, 1, 1, 1, 0,\n",
       "       1, 1, 0, 0, 1, 1, 1, 0, 1, 0, 1, 0, 0, 0, 1, 1, 0, 0, 1, 0, 1, 0,\n",
       "       1, 0, 0, 0, 0, 1, 0, 1, 0, 1, 1, 0, 1, 1, 0, 0, 0, 0, 1, 0, 0, 1,\n",
       "       1, 1, 0, 0, 0, 0, 0, 1, 0, 1, 0, 1, 0, 1, 0, 0, 0, 0, 1, 0, 0, 1,\n",
       "       1, 0, 1, 1, 0, 1, 0, 1, 1, 0, 0, 1, 0, 1, 1, 1, 0, 0, 0, 1, 0, 1,\n",
       "       1, 0, 1, 1, 1, 0, 1, 0, 1, 0, 0, 0, 1, 0, 0, 1, 0, 1, 0, 0, 1, 1,\n",
       "       0, 0, 1, 0, 0, 1, 0, 0, 0, 0, 1, 0, 1, 0, 1, 0, 0, 1, 0, 1, 1, 1,\n",
       "       1, 1, 0, 1, 0, 0, 0, 0, 1, 0, 1, 1, 0, 1, 0, 0, 0, 1, 1, 1, 0, 0,\n",
       "       0, 1, 1, 1, 1, 0, 0, 0, 0, 1, 1, 0, 0, 1, 1, 0, 0, 1, 1, 1, 1, 0,\n",
       "       1, 0, 0, 1, 1, 0, 0, 0, 1, 0, 0, 1, 0, 0, 0, 0, 0, 1, 0, 1, 0, 1,\n",
       "       1, 0, 0, 0, 0, 1, 1, 1, 1, 0, 1, 0, 0, 1, 0, 1, 0, 0, 0, 1, 1, 0,\n",
       "       1, 0, 0, 1, 0, 0, 1, 0, 0, 0, 0, 1, 1, 0, 1, 0, 1, 0, 1, 1, 0, 1,\n",
       "       1, 0, 0, 0, 0, 1, 0, 1, 1, 1, 0, 1, 1, 1, 1, 1, 0, 0, 1, 0, 0, 0,\n",
       "       0, 1, 0, 1, 0, 1, 1, 1, 1, 0, 0, 1, 0, 0], dtype=int64)"
      ]
     },
     "execution_count": 130,
     "metadata": {},
     "output_type": "execute_result"
    }
   ],
   "source": [
    "y_pred"
   ]
  },
  {
   "cell_type": "code",
   "execution_count": 131,
   "id": "08eb1998",
   "metadata": {},
   "outputs": [
    {
     "data": {
      "image/png": "[encoded data removed]",
      "text/plain": [
       "<Figure size 504x504 with 1 Axes>"
      ]
     },
     "metadata": {
      "needs_background": "light"
     },
     "output_type": "display_data"
    }
   ],
   "source": [
    "plt.figure(figsize=(7,7))\n",
    "plt.scatter(Y_test,y_pred,s=15)\n",
    "plt.xlabel('Actual',fontsize=14)\n",
    "plt.ylabel('Predict',fontsize=14)\n",
    "plt.title('KNN Actual vs Predict')\n",
    "plt.show()"
   ]
  },
  {
   "cell_type": "code",
   "execution_count": 132,
   "id": "8eed0b3f",
   "metadata": {},
   "outputs": [
    {
     "data": {
      "image/png": "[encoded data removed]",
      "text/plain": [
       "<Figure size 504x504 with 1 Axes>"
      ]
     },
     "metadata": {
      "needs_background": "light"
     },
     "output_type": "display_data"
    }
   ],
   "source": [
    "df = pd.DataFrame({'Actual': Y_test, 'Predicted': y_pred})\n",
    "df.plot(kind='bar',figsize=(7,7),xlabel='Test Data',ylabel='Cardio',title='KNN')\n",
    "plt.show()"
   ]
  },
  {
   "cell_type": "markdown",
   "id": "8e5e1843",
   "metadata": {},
   "source": [
    "# Import and initialize Logistic Regression classifier"
   ]
  },
  {
   "cell_type": "code",
   "execution_count": 133,
   "id": "a62de2d9",
   "metadata": {},
   "outputs": [],
   "source": [
    "from sklearn.linear_model import LogisticRegression"
   ]
  },
  {
   "cell_type": "code",
   "execution_count": 134,
   "id": "3da7d750",
   "metadata": {},
   "outputs": [],
   "source": [
    "logreg = LogisticRegression(solver='liblinear')"
   ]
  },
  {
   "cell_type": "markdown",
   "id": "44f84410",
   "metadata": {},
   "source": [
    "# Fit the model"
   ]
  },
  {
   "cell_type": "code",
   "execution_count": 135,
   "id": "c8de4fad",
   "metadata": {},
   "outputs": [
    {
     "data": {
      "text/plain": [
       "LogisticRegression(solver='liblinear')"
      ]
     },
     "execution_count": 135,
     "metadata": {},
     "output_type": "execute_result"
    }
   ],
   "source": [
    "logreg.fit(X_train, Y_train)"
   ]
  },
  {
   "cell_type": "code",
   "execution_count": 136,
   "id": "83ce9114",
   "metadata": {},
   "outputs": [],
   "source": [
    "y_pred = logreg.predict(X_test)"
   ]
  },
  {
   "cell_type": "code",
   "execution_count": 137,
   "id": "d8ff541f",
   "metadata": {},
   "outputs": [
    {
     "data": {
      "text/plain": [
       "0.73"
      ]
     },
     "execution_count": 137,
     "metadata": {},
     "output_type": "execute_result"
    }
   ],
   "source": [
    "logreg.score(X_test , Y_test)"
   ]
  },
  {
   "cell_type": "markdown",
   "id": "a5e0f8c0",
   "metadata": {},
   "source": [
    "# Measure Performance metrix"
   ]
  },
  {
   "cell_type": "code",
   "execution_count": 183,
   "id": "3add6996",
   "metadata": {},
   "outputs": [
    {
     "data": {
      "text/plain": [
       "array([[119,  28],\n",
       "       [ 40, 113]], dtype=int64)"
      ]
     },
     "execution_count": 183,
     "metadata": {},
     "output_type": "execute_result"
    }
   ],
   "source": [
    "cm = confusion_matrix(Y_test, y_pred)\n",
    "cm"
   ]
  },
  {
   "cell_type": "code",
   "execution_count": 184,
   "id": "08d60681",
   "metadata": {},
   "outputs": [
    {
     "data": {
      "text/plain": [
       "Text(69.0, 0.5, 'Truth')"
      ]
     },
     "execution_count": 184,
     "metadata": {},
     "output_type": "execute_result"
    },
    {
     "data": {
      "image/png": "[encoded data removed]",
      "text/plain": [
       "<Figure size 720x504 with 2 Axes>"
      ]
     },
     "metadata": {
      "needs_background": "light"
     },
     "output_type": "display_data"
    }
   ],
   "source": [
    "plt.figure(figsize=(10,7))\n",
    "sns.heatmap(cm, annot=True)\n",
    "plt.xlabel('Predicted')\n",
    "plt.ylabel('Truth')"
   ]
  },
  {
   "cell_type": "code",
   "execution_count": 139,
   "id": "488999da",
   "metadata": {},
   "outputs": [
    {
     "name": "stdout",
     "output_type": "stream",
     "text": [
      "              precision    recall  f1-score   support\n",
      "\n",
      "           0       0.72      0.73      0.73       147\n",
      "           1       0.74      0.73      0.73       153\n",
      "\n",
      "    accuracy                           0.73       300\n",
      "   macro avg       0.73      0.73      0.73       300\n",
      "weighted avg       0.73      0.73      0.73       300\n",
      "\n"
     ]
    }
   ],
   "source": [
    "print(classification_report(Y_test , y_pred))"
   ]
  },
  {
   "cell_type": "code",
   "execution_count": 140,
   "id": "26586088",
   "metadata": {},
   "outputs": [
    {
     "data": {
      "image/png": "[encoded data removed]",
      "text/plain": [
       "<Figure size 504x504 with 1 Axes>"
      ]
     },
     "metadata": {
      "needs_background": "light"
     },
     "output_type": "display_data"
    }
   ],
   "source": [
    "plt.figure(figsize=(7,7))\n",
    "plt.scatter(Y_test,y_pred,s=15)\n",
    "plt.xlabel('Actual',fontsize=14)\n",
    "plt.ylabel('Predict',fontsize=14)\n",
    "plt.title('Logistic Regression Actual vs Predict')\n",
    "plt.show()"
   ]
  },
  {
   "cell_type": "code",
   "execution_count": 141,
   "id": "5a64d0fe",
   "metadata": {},
   "outputs": [
    {
     "data": {
      "image/png": "[encoded data removed]",
      "text/plain": [
       "<Figure size 504x504 with 1 Axes>"
      ]
     },
     "metadata": {
      "needs_background": "light"
     },
     "output_type": "display_data"
    }
   ],
   "source": [
    "df = pd.DataFrame({'Actual': Y_test, 'Predicted': y_pred})\n",
    "df.plot(kind='bar',figsize=(7,7),xlabel='Test Data',ylabel='Cardio',title='Logistic Regression')\n",
    "plt.show()"
   ]
  },
  {
   "cell_type": "markdown",
   "id": "d7172b6c",
   "metadata": {},
   "source": [
    "# Import and initialize Gaussian Naive Bayes classifier"
   ]
  },
  {
   "cell_type": "code",
   "execution_count": 142,
   "id": "cf6d89d5",
   "metadata": {},
   "outputs": [],
   "source": [
    "from sklearn.naive_bayes import GaussianNB\n",
    "GNB = GaussianNB()"
   ]
  },
  {
   "cell_type": "markdown",
   "id": "ec85b794",
   "metadata": {},
   "source": [
    "# Fit the model"
   ]
  },
  {
   "cell_type": "code",
   "execution_count": 143,
   "id": "3592cc46",
   "metadata": {},
   "outputs": [
    {
     "data": {
      "text/plain": [
       "GaussianNB()"
      ]
     },
     "execution_count": 143,
     "metadata": {},
     "output_type": "execute_result"
    }
   ],
   "source": [
    "GNB.fit(X_train , Y_train)"
   ]
  },
  {
   "cell_type": "code",
   "execution_count": 144,
   "id": "9428caf8",
   "metadata": {},
   "outputs": [],
   "source": [
    "y_pred = GNB.predict(X_test)"
   ]
  },
  {
   "cell_type": "code",
   "execution_count": 145,
   "id": "a23c2c54",
   "metadata": {},
   "outputs": [
    {
     "data": {
      "text/plain": [
       "0.6933333333333334"
      ]
     },
     "execution_count": 145,
     "metadata": {},
     "output_type": "execute_result"
    }
   ],
   "source": [
    "GNB.score(X_test , Y_test)"
   ]
  },
  {
   "cell_type": "markdown",
   "id": "b0ea6f24",
   "metadata": {},
   "source": [
    "# Measure Performance metrix"
   ]
  },
  {
   "cell_type": "code",
   "execution_count": 146,
   "id": "b4c7024b",
   "metadata": {},
   "outputs": [
    {
     "data": {
      "text/plain": [
       "array([[113,  34],\n",
       "       [ 58,  95]], dtype=int64)"
      ]
     },
     "execution_count": 146,
     "metadata": {},
     "output_type": "execute_result"
    }
   ],
   "source": [
    "cm = confusion_matrix(Y_test, y_pred)\n",
    "cm"
   ]
  },
  {
   "cell_type": "code",
   "execution_count": 147,
   "id": "dab1dba7",
   "metadata": {},
   "outputs": [
    {
     "name": "stdout",
     "output_type": "stream",
     "text": [
      "              precision    recall  f1-score   support\n",
      "\n",
      "           0       0.66      0.77      0.71       147\n",
      "           1       0.74      0.62      0.67       153\n",
      "\n",
      "    accuracy                           0.69       300\n",
      "   macro avg       0.70      0.69      0.69       300\n",
      "weighted avg       0.70      0.69      0.69       300\n",
      "\n"
     ]
    }
   ],
   "source": [
    "print(classification_report(Y_test , y_pred))"
   ]
  },
  {
   "cell_type": "code",
   "execution_count": 148,
   "id": "24621abc",
   "metadata": {},
   "outputs": [
    {
     "data": {
      "image/png": "[encoded data removed]",
      "text/plain": [
       "<Figure size 504x504 with 1 Axes>"
      ]
     },
     "metadata": {
      "needs_background": "light"
     },
     "output_type": "display_data"
    },
    {
     "data": {
      "image/png": "[encoded data removed]",
      "text/plain": [
       "<Figure size 504x504 with 1 Axes>"
      ]
     },
     "metadata": {
      "needs_background": "light"
     },
     "output_type": "display_data"
    }
   ],
   "source": [
    "plt.figure(figsize=(7,7))\n",
    "plt.scatter(Y_test,y_pred,s=15)\n",
    "plt.xlabel('Actual',fontsize=14)\n",
    "plt.ylabel('Predict',fontsize=14)\n",
    "plt.title('Gaussian Bayes Actual vs Predict')\n",
    "plt.show()\n",
    "df = pd.DataFrame({'Actual': Y_test, 'Predicted': y_pred})\n",
    "df.plot(kind='bar',figsize=(7,7),xlabel='Test Data',ylabel='Cardio',title='Gaussian Bayes')\n",
    "plt.show()"
   ]
  },
  {
   "cell_type": "code",
   "execution_count": 149,
   "id": "ee869925",
   "metadata": {},
   "outputs": [],
   "source": [
    "from sklearn.svm import SVC\n",
    "model = SVC()"
   ]
  },
  {
   "cell_type": "code",
   "execution_count": 150,
   "id": "bbe9f0a9",
   "metadata": {},
   "outputs": [
    {
     "data": {
      "text/plain": [
       "SVC()"
      ]
     },
     "execution_count": 150,
     "metadata": {},
     "output_type": "execute_result"
    }
   ],
   "source": [
    "model.fit(X_train, Y_train)"
   ]
  },
  {
   "cell_type": "code",
   "execution_count": 151,
   "id": "3589fc57",
   "metadata": {},
   "outputs": [
    {
     "data": {
      "text/plain": [
       "0.7733333333333333"
      ]
     },
     "execution_count": 151,
     "metadata": {},
     "output_type": "execute_result"
    }
   ],
   "source": [
    "model.score(X_test, Y_test)"
   ]
  },
  {
   "cell_type": "code",
   "execution_count": 152,
   "id": "2b4ea3e2",
   "metadata": {},
   "outputs": [],
   "source": [
    "y_pred = model.predict(X_test)"
   ]
  },
  {
   "cell_type": "markdown",
   "id": "e2b06a54",
   "metadata": {},
   "source": [
    "# Measure Performance metrix"
   ]
  },
  {
   "cell_type": "code",
   "execution_count": 153,
   "id": "25a12a63",
   "metadata": {},
   "outputs": [
    {
     "data": {
      "text/plain": [
       "array([[119,  28],\n",
       "       [ 40, 113]], dtype=int64)"
      ]
     },
     "execution_count": 153,
     "metadata": {},
     "output_type": "execute_result"
    }
   ],
   "source": [
    "cm = confusion_matrix(Y_test, y_pred)\n",
    "cm"
   ]
  },
  {
   "cell_type": "code",
   "execution_count": 154,
   "id": "4a89d4c8",
   "metadata": {},
   "outputs": [
    {
     "name": "stdout",
     "output_type": "stream",
     "text": [
      "              precision    recall  f1-score   support\n",
      "\n",
      "           0       0.75      0.81      0.78       147\n",
      "           1       0.80      0.74      0.77       153\n",
      "\n",
      "    accuracy                           0.77       300\n",
      "   macro avg       0.77      0.77      0.77       300\n",
      "weighted avg       0.78      0.77      0.77       300\n",
      "\n"
     ]
    }
   ],
   "source": [
    "print(classification_report(Y_test , y_pred))"
   ]
  },
  {
   "cell_type": "code",
   "execution_count": 155,
   "id": "823fa471",
   "metadata": {},
   "outputs": [
    {
     "data": {
      "image/png": "[encoded data removed]",
      "text/plain": [
       "<Figure size 504x504 with 1 Axes>"
      ]
     },
     "metadata": {
      "needs_background": "light"
     },
     "output_type": "display_data"
    },
    {
     "data": {
      "image/png": "[encoded data removed]",
      "text/plain": [
       "<Figure size 504x504 with 1 Axes>"
      ]
     },
     "metadata": {
      "needs_background": "light"
     },
     "output_type": "display_data"
    }
   ],
   "source": [
    "plt.figure(figsize=(7,7))\n",
    "plt.scatter(Y_test,y_pred,s=15)\n",
    "plt.xlabel('Actual',fontsize=14)\n",
    "plt.ylabel('Predict',fontsize=14)\n",
    "plt.title('Support Vector Machine Actual vs Predict')\n",
    "plt.show()\n",
    "df = pd.DataFrame({'Actual': Y_test, 'Predicted': y_pred})\n",
    "df.plot(kind='bar',figsize=(7,7),xlabel='Test Data',ylabel='Cardio',title='Support Vector Machine')\n",
    "plt.show()"
   ]
  },
  {
   "cell_type": "markdown",
   "id": "94111ea8",
   "metadata": {},
   "source": [
    "# Import and initialize Random Forest classifier"
   ]
  },
  {
   "cell_type": "code",
   "execution_count": 156,
   "id": "eac6bb21",
   "metadata": {},
   "outputs": [
    {
     "data": {
      "text/plain": [
       "RandomForestClassifier(n_estimators=20)"
      ]
     },
     "execution_count": 156,
     "metadata": {},
     "output_type": "execute_result"
    }
   ],
   "source": [
    "from sklearn.ensemble import RandomForestClassifier\n",
    "model = RandomForestClassifier(n_estimators=20)\n",
    "model.fit(X_train, Y_train)"
   ]
  },
  {
   "cell_type": "code",
   "execution_count": 157,
   "id": "45c3a730",
   "metadata": {},
   "outputs": [
    {
     "data": {
      "text/plain": [
       "0.8233333333333334"
      ]
     },
     "execution_count": 157,
     "metadata": {},
     "output_type": "execute_result"
    }
   ],
   "source": [
    "model.score(X_test , Y_test)"
   ]
  },
  {
   "cell_type": "code",
   "execution_count": 158,
   "id": "fc3110e9",
   "metadata": {},
   "outputs": [],
   "source": [
    "y_predicted = model.predict(X_test)"
   ]
  },
  {
   "cell_type": "markdown",
   "id": "8886a624",
   "metadata": {},
   "source": [
    "# Measure Performance metrix"
   ]
  },
  {
   "cell_type": "code",
   "execution_count": 159,
   "id": "b03ae05f",
   "metadata": {},
   "outputs": [
    {
     "data": {
      "text/plain": [
       "array([[127,  20],\n",
       "       [ 33, 120]], dtype=int64)"
      ]
     },
     "execution_count": 159,
     "metadata": {},
     "output_type": "execute_result"
    }
   ],
   "source": [
    "cm = confusion_matrix(Y_test, y_predicted)\n",
    "cm"
   ]
  },
  {
   "cell_type": "code",
   "execution_count": 160,
   "id": "1373254e",
   "metadata": {},
   "outputs": [
    {
     "name": "stdout",
     "output_type": "stream",
     "text": [
      "              precision    recall  f1-score   support\n",
      "\n",
      "           0       0.79      0.86      0.83       147\n",
      "           1       0.86      0.78      0.82       153\n",
      "\n",
      "    accuracy                           0.82       300\n",
      "   macro avg       0.83      0.82      0.82       300\n",
      "weighted avg       0.83      0.82      0.82       300\n",
      "\n"
     ]
    }
   ],
   "source": [
    "print(classification_report(Y_test , y_predicted))"
   ]
  },
  {
   "cell_type": "code",
   "execution_count": 161,
   "id": "0375080f",
   "metadata": {},
   "outputs": [
    {
     "data": {
      "image/png": "[encoded data removed]",
      "text/plain": [
       "<Figure size 504x504 with 1 Axes>"
      ]
     },
     "metadata": {
      "needs_background": "light"
     },
     "output_type": "display_data"
    },
    {
     "data": {
      "image/png": "[encoded data removed]",
      "text/plain": [
       "<Figure size 504x504 with 1 Axes>"
      ]
     },
     "metadata": {
      "needs_background": "light"
     },
     "output_type": "display_data"
    }
   ],
   "source": [
    "plt.figure(figsize=(7,7))\n",
    "plt.scatter(Y_test,y_predicted,s=15)\n",
    "plt.xlabel('Actual',fontsize=14)\n",
    "plt.ylabel('Predict',fontsize=14)\n",
    "plt.title('Random Forest Actual vs Predict')\n",
    "plt.show()\n",
    "df = pd.DataFrame({'Actual': Y_test, 'Predicted': y_predicted})\n",
    "df.plot(kind='bar',figsize=(7,7),xlabel='Test Data',ylabel='Cardio',title='Random Forest')\n",
    "plt.show()"
   ]
  },
  {
   "cell_type": "code",
   "execution_count": 162,
   "id": "79f531a0",
   "metadata": {},
   "outputs": [
    {
     "data": {
      "text/plain": [
       "Text(69.0, 0.5, 'Truth')"
      ]
     },
     "execution_count": 162,
     "metadata": {},
     "output_type": "execute_result"
    },
    {
     "data": {
      "image/png": "[encoded data removed]",
      "text/plain": [
       "<Figure size 720x504 with 2 Axes>"
      ]
     },
     "metadata": {
      "needs_background": "light"
     },
     "output_type": "display_data"
    }
   ],
   "source": [
    "%matplotlib inline\n",
    "import matplotlib.pyplot as plt\n",
    "import seaborn as sn\n",
    "plt.figure(figsize=(10,7))\n",
    "sn.heatmap(cm, annot=True)\n",
    "plt.xlabel('Predicted')\n",
    "plt.ylabel('Truth')"
   ]
  },
  {
   "cell_type": "markdown",
   "id": "131cbb80",
   "metadata": {},
   "source": [
    "# Import and initialize Decision Tree classifier"
   ]
  },
  {
   "cell_type": "code",
   "execution_count": 163,
   "id": "2886b28b",
   "metadata": {},
   "outputs": [],
   "source": [
    "from sklearn import tree"
   ]
  },
  {
   "cell_type": "code",
   "execution_count": 164,
   "id": "51b969c9",
   "metadata": {},
   "outputs": [],
   "source": [
    "classify = tree.DecisionTreeClassifier()"
   ]
  },
  {
   "cell_type": "markdown",
   "id": "c42de4ff",
   "metadata": {},
   "source": [
    "# Fit the model"
   ]
  },
  {
   "cell_type": "code",
   "execution_count": 165,
   "id": "16312d0e",
   "metadata": {},
   "outputs": [],
   "source": [
    "classify = classify.fit(X_train,Y_train)"
   ]
  },
  {
   "cell_type": "code",
   "execution_count": 166,
   "id": "dbfc1e76",
   "metadata": {},
   "outputs": [
    {
     "data": {
      "text/plain": [
       "array([1, 1, 0, 1, 1, 1, 0, 0, 0, 0, 1, 1, 0, 0, 0, 1, 1, 1, 0, 1, 1, 1,\n",
       "       1, 0, 0, 1, 1, 1, 1, 0, 1, 0, 1, 0, 1, 1, 1, 0, 0, 0, 1, 0, 1, 0,\n",
       "       1, 0, 0, 1, 0, 1, 0, 1, 1, 1, 1, 0, 0, 0, 0, 0, 1, 0, 1, 1, 0, 1,\n",
       "       0, 0, 1, 0, 0, 0, 0, 1, 0, 1, 0, 0, 1, 1, 0, 1, 0, 0, 1, 1, 0, 1,\n",
       "       0, 1, 0, 1, 0, 1, 0, 1, 1, 1, 0, 1, 0, 1, 1, 1, 0, 0, 1, 0, 0, 1,\n",
       "       1, 0, 1, 0, 0, 0, 1, 0, 1, 0, 0, 1, 1, 1, 0, 1, 0, 1, 0, 0, 1, 1,\n",
       "       0, 1, 1, 0, 0, 1, 0, 0, 0, 1, 1, 0, 1, 0, 0, 0, 0, 0, 0, 0, 1, 1,\n",
       "       1, 0, 0, 1, 1, 0, 1, 1, 1, 0, 1, 1, 0, 1, 0, 0, 1, 1, 1, 0, 1, 0,\n",
       "       1, 1, 1, 1, 0, 1, 0, 0, 0, 1, 1, 0, 0, 1, 1, 0, 0, 0, 1, 0, 1, 0,\n",
       "       1, 0, 0, 1, 1, 1, 1, 0, 1, 0, 0, 0, 0, 1, 0, 0, 1, 0, 0, 1, 1, 1,\n",
       "       1, 0, 1, 0, 1, 1, 1, 0, 1, 0, 1, 0, 1, 1, 0, 1, 0, 0, 1, 1, 0, 0,\n",
       "       1, 0, 0, 1, 0, 0, 1, 0, 0, 1, 0, 1, 1, 0, 1, 0, 1, 0, 0, 1, 1, 1,\n",
       "       1, 1, 0, 0, 1, 0, 1, 1, 1, 0, 0, 1, 1, 1, 1, 0, 0, 0, 1, 0, 1, 0,\n",
       "       0, 0, 0, 1, 0, 1, 1, 0, 0, 0, 0, 1, 1, 0], dtype=int64)"
      ]
     },
     "execution_count": 166,
     "metadata": {},
     "output_type": "execute_result"
    }
   ],
   "source": [
    "predict = classify.predict(X_test)\n",
    "predict"
   ]
  },
  {
   "cell_type": "code",
   "execution_count": 167,
   "id": "79f5e8bf",
   "metadata": {},
   "outputs": [
    {
     "data": {
      "text/plain": [
       "0.7466666666666667"
      ]
     },
     "execution_count": 167,
     "metadata": {},
     "output_type": "execute_result"
    }
   ],
   "source": [
    "classify.score(X_test , Y_test)"
   ]
  },
  {
   "cell_type": "code",
   "execution_count": 168,
   "id": "e63ca8e3",
   "metadata": {},
   "outputs": [
    {
     "data": {
      "text/plain": [
       "[Text(146.932734375, 208.38, 'X[11] <= 0.214\\ngini = 0.499\\nsamples = 699\\nvalue = [361, 338]'),\n",
       " Text(61.903125, 190.26, 'X[2] <= 0.5\\ngini = 0.257\\nsamples = 291\\nvalue = [247, 44]'),\n",
       " Text(33.13125, 172.14, 'X[9] <= 0.375\\ngini = 0.159\\nsamples = 229\\nvalue = [209, 20]'),\n",
       " Text(16.0425, 154.01999999999998, 'X[5] <= 0.313\\ngini = 0.296\\nsamples = 94\\nvalue = [77, 17]'),\n",
       " Text(5.58, 135.89999999999998, 'X[3] <= 0.387\\ngini = 0.494\\nsamples = 9\\nvalue = [4, 5]'),\n",
       " Text(2.79, 117.77999999999999, 'gini = 0.0\\nsamples = 4\\nvalue = [0, 4]'),\n",
       " Text(8.370000000000001, 117.77999999999999, 'X[11] <= 0.071\\ngini = 0.32\\nsamples = 5\\nvalue = [4, 1]'),\n",
       " Text(5.58, 99.66, 'gini = 0.0\\nsamples = 1\\nvalue = [0, 1]'),\n",
       " Text(11.16, 99.66, 'gini = 0.0\\nsamples = 4\\nvalue = [4, 0]'),\n",
       " Text(26.505, 135.89999999999998, 'X[4] <= 0.433\\ngini = 0.242\\nsamples = 85\\nvalue = [73, 12]'),\n",
       " Text(19.53, 117.77999999999999, 'X[6] <= 0.537\\ngini = 0.122\\nsamples = 46\\nvalue = [43, 3]'),\n",
       " Text(16.740000000000002, 99.66, 'X[4] <= 0.258\\ngini = 0.085\\nsamples = 45\\nvalue = [43, 2]'),\n",
       " Text(13.95, 81.53999999999999, 'X[1] <= 0.5\\ngini = 0.375\\nsamples = 8\\nvalue = [6, 2]'),\n",
       " Text(11.16, 63.41999999999999, 'gini = 0.0\\nsamples = 5\\nvalue = [5, 0]'),\n",
       " Text(16.740000000000002, 63.41999999999999, 'X[3] <= 0.419\\ngini = 0.444\\nsamples = 3\\nvalue = [1, 2]'),\n",
       " Text(13.95, 45.29999999999998, 'gini = 0.0\\nsamples = 2\\nvalue = [0, 2]'),\n",
       " Text(19.53, 45.29999999999998, 'gini = 0.0\\nsamples = 1\\nvalue = [1, 0]'),\n",
       " Text(19.53, 81.53999999999999, 'gini = 0.0\\nsamples = 37\\nvalue = [37, 0]'),\n",
       " Text(22.32, 99.66, 'gini = 0.0\\nsamples = 1\\nvalue = [0, 1]'),\n",
       " Text(33.480000000000004, 117.77999999999999, 'X[8] <= 0.167\\ngini = 0.355\\nsamples = 39\\nvalue = [30, 9]'),\n",
       " Text(27.9, 99.66, 'X[4] <= 0.721\\ngini = 0.159\\nsamples = 23\\nvalue = [21, 2]'),\n",
       " Text(25.11, 81.53999999999999, 'X[6] <= 0.311\\ngini = 0.087\\nsamples = 22\\nvalue = [21, 1]'),\n",
       " Text(22.32, 63.41999999999999, 'gini = 0.0\\nsamples = 1\\nvalue = [0, 1]'),\n",
       " Text(27.9, 63.41999999999999, 'gini = 0.0\\nsamples = 21\\nvalue = [21, 0]'),\n",
       " Text(30.69, 81.53999999999999, 'gini = 0.0\\nsamples = 1\\nvalue = [0, 1]'),\n",
       " Text(39.06, 99.66, 'X[1] <= 0.5\\ngini = 0.492\\nsamples = 16\\nvalue = [9, 7]'),\n",
       " Text(36.27, 81.53999999999999, 'X[6] <= 0.418\\ngini = 0.298\\nsamples = 11\\nvalue = [9, 2]'),\n",
       " Text(33.480000000000004, 63.41999999999999, 'gini = 0.0\\nsamples = 8\\nvalue = [8, 0]'),\n",
       " Text(39.06, 63.41999999999999, 'X[6] <= 0.549\\ngini = 0.444\\nsamples = 3\\nvalue = [1, 2]'),\n",
       " Text(36.27, 45.29999999999998, 'gini = 0.0\\nsamples = 2\\nvalue = [0, 2]'),\n",
       " Text(41.85, 45.29999999999998, 'gini = 0.0\\nsamples = 1\\nvalue = [1, 0]'),\n",
       " Text(41.85, 81.53999999999999, 'gini = 0.0\\nsamples = 5\\nvalue = [0, 5]'),\n",
       " Text(50.22, 154.01999999999998, 'X[11] <= 0.071\\ngini = 0.043\\nsamples = 135\\nvalue = [132, 3]'),\n",
       " Text(47.43, 135.89999999999998, 'gini = 0.0\\nsamples = 1\\nvalue = [0, 1]'),\n",
       " Text(53.01, 135.89999999999998, 'X[5] <= 0.901\\ngini = 0.029\\nsamples = 134\\nvalue = [132, 2]'),\n",
       " Text(47.43, 117.77999999999999, 'X[0] <= 0.704\\ngini = 0.015\\nsamples = 132\\nvalue = [131, 1]'),\n",
       " Text(44.64, 99.66, 'gini = 0.0\\nsamples = 127\\nvalue = [127, 0]'),\n",
       " Text(50.22, 99.66, 'X[0] <= 0.735\\ngini = 0.32\\nsamples = 5\\nvalue = [4, 1]'),\n",
       " Text(47.43, 81.53999999999999, 'gini = 0.0\\nsamples = 1\\nvalue = [0, 1]'),\n",
       " Text(53.01, 81.53999999999999, 'gini = 0.0\\nsamples = 4\\nvalue = [4, 0]'),\n",
       " Text(58.59, 117.77999999999999, 'X[3] <= 0.262\\ngini = 0.5\\nsamples = 2\\nvalue = [1, 1]'),\n",
       " Text(55.8, 99.66, 'gini = 0.0\\nsamples = 1\\nvalue = [1, 0]'),\n",
       " Text(61.38, 99.66, 'gini = 0.0\\nsamples = 1\\nvalue = [0, 1]'),\n",
       " Text(90.675, 172.14, 'X[10] <= 0.25\\ngini = 0.475\\nsamples = 62\\nvalue = [38, 24]'),\n",
       " Text(78.12, 154.01999999999998, 'X[0] <= 0.459\\ngini = 0.285\\nsamples = 29\\nvalue = [24, 5]'),\n",
       " Text(72.54, 135.89999999999998, 'X[6] <= 0.401\\ngini = 0.463\\nsamples = 11\\nvalue = [7, 4]'),\n",
       " Text(69.75, 117.77999999999999, 'X[0] <= 0.357\\ngini = 0.346\\nsamples = 9\\nvalue = [7, 2]'),\n",
       " Text(66.96000000000001, 99.66, 'gini = 0.0\\nsamples = 6\\nvalue = [6, 0]'),\n",
       " Text(72.54, 99.66, 'X[9] <= 0.5\\ngini = 0.444\\nsamples = 3\\nvalue = [1, 2]'),\n",
       " Text(69.75, 81.53999999999999, 'gini = 0.0\\nsamples = 2\\nvalue = [0, 2]'),\n",
       " Text(75.33, 81.53999999999999, 'gini = 0.0\\nsamples = 1\\nvalue = [1, 0]'),\n",
       " Text(75.33, 117.77999999999999, 'gini = 0.0\\nsamples = 2\\nvalue = [0, 2]'),\n",
       " Text(83.7, 135.89999999999998, 'X[4] <= 0.767\\ngini = 0.105\\nsamples = 18\\nvalue = [17, 1]'),\n",
       " Text(80.91, 117.77999999999999, 'gini = 0.0\\nsamples = 16\\nvalue = [16, 0]'),\n",
       " Text(86.49, 117.77999999999999, 'X[3] <= 0.282\\ngini = 0.5\\nsamples = 2\\nvalue = [1, 1]'),\n",
       " Text(83.7, 99.66, 'gini = 0.0\\nsamples = 1\\nvalue = [1, 0]'),\n",
       " Text(89.28, 99.66, 'gini = 0.0\\nsamples = 1\\nvalue = [0, 1]'),\n",
       " Text(103.23, 154.01999999999998, 'X[5] <= 0.58\\ngini = 0.489\\nsamples = 33\\nvalue = [14, 19]'),\n",
       " Text(100.44, 135.89999999999998, 'X[9] <= 0.875\\ngini = 0.393\\nsamples = 26\\nvalue = [7, 19]'),\n",
       " Text(97.65, 117.77999999999999, 'X[3] <= 0.367\\ngini = 0.287\\nsamples = 23\\nvalue = [4, 19]'),\n",
       " Text(94.86, 99.66, 'gini = 0.0\\nsamples = 12\\nvalue = [0, 12]'),\n",
       " Text(100.44, 99.66, 'X[5] <= 0.531\\ngini = 0.463\\nsamples = 11\\nvalue = [4, 7]'),\n",
       " Text(97.65, 81.53999999999999, 'X[4] <= 0.65\\ngini = 0.346\\nsamples = 9\\nvalue = [2, 7]'),\n",
       " Text(94.86, 63.41999999999999, 'X[6] <= 0.509\\ngini = 0.219\\nsamples = 8\\nvalue = [1, 7]'),\n",
       " Text(92.07000000000001, 45.29999999999998, 'gini = 0.0\\nsamples = 7\\nvalue = [0, 7]'),\n",
       " Text(97.65, 45.29999999999998, 'gini = 0.0\\nsamples = 1\\nvalue = [1, 0]'),\n",
       " Text(100.44, 63.41999999999999, 'gini = 0.0\\nsamples = 1\\nvalue = [1, 0]'),\n",
       " Text(103.23, 81.53999999999999, 'gini = 0.0\\nsamples = 2\\nvalue = [2, 0]'),\n",
       " Text(103.23, 117.77999999999999, 'gini = 0.0\\nsamples = 3\\nvalue = [3, 0]'),\n",
       " Text(106.02, 135.89999999999998, 'gini = 0.0\\nsamples = 7\\nvalue = [7, 0]'),\n",
       " Text(231.96234375, 190.26, 'X[9] <= 0.125\\ngini = 0.403\\nsamples = 408\\nvalue = [114, 294]'),\n",
       " Text(176.5546875, 172.14, 'X[10] <= 0.75\\ngini = 0.497\\nsamples = 152\\nvalue = [82, 70]'),\n",
       " Text(141.069375, 154.01999999999998, 'X[11] <= 0.357\\ngini = 0.463\\nsamples = 118\\nvalue = [75, 43]'),\n",
       " Text(114.39, 135.89999999999998, 'X[0] <= 0.469\\ngini = 0.492\\nsamples = 32\\nvalue = [14, 18]'),\n",
       " Text(111.6, 117.77999999999999, 'gini = 0.0\\nsamples = 9\\nvalue = [0, 9]'),\n",
       " Text(117.18, 117.77999999999999, 'X[2] <= 0.5\\ngini = 0.476\\nsamples = 23\\nvalue = [14, 9]'),\n",
       " Text(111.6, 99.66, 'X[5] <= 0.34\\ngini = 0.49\\nsamples = 14\\nvalue = [6, 8]'),\n",
       " Text(108.81, 81.53999999999999, 'gini = 0.0\\nsamples = 3\\nvalue = [3, 0]'),\n",
       " Text(114.39, 81.53999999999999, 'X[5] <= 0.668\\ngini = 0.397\\nsamples = 11\\nvalue = [3, 8]'),\n",
       " Text(111.6, 63.41999999999999, 'gini = 0.0\\nsamples = 7\\nvalue = [0, 7]'),\n",
       " Text(117.18, 63.41999999999999, 'X[6] <= 0.42\\ngini = 0.375\\nsamples = 4\\nvalue = [3, 1]'),\n",
       " Text(114.39, 45.29999999999998, 'X[6] <= 0.389\\ngini = 0.5\\nsamples = 2\\nvalue = [1, 1]'),\n",
       " Text(111.6, 27.17999999999998, 'gini = 0.0\\nsamples = 1\\nvalue = [1, 0]'),\n",
       " Text(117.18, 27.17999999999998, 'gini = 0.0\\nsamples = 1\\nvalue = [0, 1]'),\n",
       " Text(119.97, 45.29999999999998, 'gini = 0.0\\nsamples = 2\\nvalue = [2, 0]'),\n",
       " Text(122.76, 99.66, 'X[6] <= 0.541\\ngini = 0.198\\nsamples = 9\\nvalue = [8, 1]'),\n",
       " Text(119.97, 81.53999999999999, 'gini = 0.0\\nsamples = 8\\nvalue = [8, 0]'),\n",
       " Text(125.55, 81.53999999999999, 'gini = 0.0\\nsamples = 1\\nvalue = [0, 1]'),\n",
       " Text(167.74875, 135.89999999999998, 'X[3] <= 0.364\\ngini = 0.412\\nsamples = 86\\nvalue = [61, 25]'),\n",
       " Text(148.5675, 117.77999999999999, 'X[4] <= 0.425\\ngini = 0.478\\nsamples = 38\\nvalue = [23, 15]'),\n",
       " Text(140.895, 99.66, 'X[4] <= 0.35\\ngini = 0.499\\nsamples = 23\\nvalue = [11, 12]'),\n",
       " Text(138.105, 81.53999999999999, 'X[5] <= 0.534\\ngini = 0.475\\nsamples = 18\\nvalue = [11, 7]'),\n",
       " Text(131.13, 63.41999999999999, 'X[0] <= 0.602\\ngini = 0.48\\nsamples = 10\\nvalue = [4, 6]'),\n",
       " Text(125.55, 45.29999999999998, 'X[10] <= 0.25\\ngini = 0.32\\nsamples = 5\\nvalue = [1, 4]'),\n",
       " Text(122.76, 27.17999999999998, 'gini = 0.0\\nsamples = 4\\nvalue = [0, 4]'),\n",
       " Text(128.34, 27.17999999999998, 'gini = 0.0\\nsamples = 1\\nvalue = [1, 0]'),\n",
       " Text(136.71, 45.29999999999998, 'X[3] <= 0.35\\ngini = 0.48\\nsamples = 5\\nvalue = [3, 2]'),\n",
       " Text(133.92000000000002, 27.17999999999998, 'gini = 0.0\\nsamples = 3\\nvalue = [3, 0]'),\n",
       " Text(139.5, 27.17999999999998, 'gini = 0.0\\nsamples = 2\\nvalue = [0, 2]'),\n",
       " Text(145.08, 63.41999999999999, 'X[4] <= 0.171\\ngini = 0.219\\nsamples = 8\\nvalue = [7, 1]'),\n",
       " Text(142.29, 45.29999999999998, 'gini = 0.0\\nsamples = 1\\nvalue = [0, 1]'),\n",
       " Text(147.87, 45.29999999999998, 'gini = 0.0\\nsamples = 7\\nvalue = [7, 0]'),\n",
       " Text(143.685, 81.53999999999999, 'gini = 0.0\\nsamples = 5\\nvalue = [0, 5]'),\n",
       " Text(156.24, 99.66, 'X[5] <= 0.252\\ngini = 0.32\\nsamples = 15\\nvalue = [12, 3]'),\n",
       " Text(153.45, 81.53999999999999, 'gini = 0.0\\nsamples = 1\\nvalue = [0, 1]'),\n",
       " Text(159.03, 81.53999999999999, 'X[5] <= 0.828\\ngini = 0.245\\nsamples = 14\\nvalue = [12, 2]'),\n",
       " Text(156.24, 63.41999999999999, 'X[8] <= 0.5\\ngini = 0.142\\nsamples = 13\\nvalue = [12, 1]'),\n",
       " Text(153.45, 45.29999999999998, 'gini = 0.0\\nsamples = 10\\nvalue = [10, 0]'),\n",
       " Text(159.03, 45.29999999999998, 'X[5] <= 0.718\\ngini = 0.444\\nsamples = 3\\nvalue = [2, 1]'),\n",
       " Text(156.24, 27.17999999999998, 'gini = 0.0\\nsamples = 2\\nvalue = [2, 0]'),\n",
       " Text(161.82, 27.17999999999998, 'gini = 0.0\\nsamples = 1\\nvalue = [0, 1]'),\n",
       " Text(161.82, 63.41999999999999, 'gini = 0.0\\nsamples = 1\\nvalue = [0, 1]'),\n",
       " Text(186.93, 117.77999999999999, 'X[5] <= 0.664\\ngini = 0.33\\nsamples = 48\\nvalue = [38, 10]'),\n",
       " Text(178.56, 99.66, 'X[5] <= 0.389\\ngini = 0.208\\nsamples = 34\\nvalue = [30, 4]'),\n",
       " Text(170.19, 81.53999999999999, 'X[6] <= 0.368\\ngini = 0.42\\nsamples = 10\\nvalue = [7, 3]'),\n",
       " Text(167.4, 63.41999999999999, 'gini = 0.0\\nsamples = 4\\nvalue = [4, 0]'),\n",
       " Text(172.98, 63.41999999999999, 'X[5] <= 0.252\\ngini = 0.5\\nsamples = 6\\nvalue = [3, 3]'),\n",
       " Text(170.19, 45.29999999999998, 'gini = 0.0\\nsamples = 3\\nvalue = [3, 0]'),\n",
       " Text(175.77, 45.29999999999998, 'gini = 0.0\\nsamples = 3\\nvalue = [0, 3]'),\n",
       " Text(186.93, 81.53999999999999, 'X[4] <= 0.242\\ngini = 0.08\\nsamples = 24\\nvalue = [23, 1]'),\n",
       " Text(184.14000000000001, 63.41999999999999, 'X[7] <= 0.5\\ngini = 0.5\\nsamples = 2\\nvalue = [1, 1]'),\n",
       " Text(181.35, 45.29999999999998, 'gini = 0.0\\nsamples = 1\\nvalue = [1, 0]'),\n",
       " Text(186.93, 45.29999999999998, 'gini = 0.0\\nsamples = 1\\nvalue = [0, 1]'),\n",
       " Text(189.72, 63.41999999999999, 'gini = 0.0\\nsamples = 22\\nvalue = [22, 0]'),\n",
       " Text(195.3, 99.66, 'X[8] <= 0.167\\ngini = 0.49\\nsamples = 14\\nvalue = [8, 6]'),\n",
       " Text(192.51, 81.53999999999999, 'gini = 0.0\\nsamples = 3\\nvalue = [0, 3]'),\n",
       " Text(198.09, 81.53999999999999, 'X[5] <= 0.714\\ngini = 0.397\\nsamples = 11\\nvalue = [8, 3]'),\n",
       " Text(195.3, 63.41999999999999, 'X[0] <= 0.643\\ngini = 0.5\\nsamples = 6\\nvalue = [3, 3]'),\n",
       " Text(192.51, 45.29999999999998, 'gini = 0.0\\nsamples = 3\\nvalue = [0, 3]'),\n",
       " Text(198.09, 45.29999999999998, 'gini = 0.0\\nsamples = 3\\nvalue = [3, 0]'),\n",
       " Text(200.88, 63.41999999999999, 'gini = 0.0\\nsamples = 5\\nvalue = [5, 0]'),\n",
       " Text(212.04, 154.01999999999998, 'X[11] <= 0.357\\ngini = 0.327\\nsamples = 34\\nvalue = [7, 27]'),\n",
       " Text(206.46, 135.89999999999998, 'X[4] <= 0.488\\ngini = 0.48\\nsamples = 5\\nvalue = [3, 2]'),\n",
       " Text(203.67000000000002, 117.77999999999999, 'X[5] <= 0.725\\ngini = 0.444\\nsamples = 3\\nvalue = [1, 2]'),\n",
       " Text(200.88, 99.66, 'gini = 0.0\\nsamples = 2\\nvalue = [0, 2]'),\n",
       " Text(206.46, 99.66, 'gini = 0.0\\nsamples = 1\\nvalue = [1, 0]'),\n",
       " Text(209.25, 117.77999999999999, 'gini = 0.0\\nsamples = 2\\nvalue = [2, 0]'),\n",
       " Text(217.62, 135.89999999999998, 'X[4] <= 0.229\\ngini = 0.238\\nsamples = 29\\nvalue = [4, 25]'),\n",
       " Text(214.83, 117.77999999999999, 'gini = 0.0\\nsamples = 1\\nvalue = [1, 0]'),\n",
       " Text(220.41, 117.77999999999999, 'X[6] <= 0.352\\ngini = 0.191\\nsamples = 28\\nvalue = [3, 25]'),\n",
       " Text(214.83, 99.66, 'X[0] <= 0.5\\ngini = 0.48\\nsamples = 5\\nvalue = [2, 3]'),\n",
       " Text(212.04, 81.53999999999999, 'gini = 0.0\\nsamples = 3\\nvalue = [0, 3]'),\n",
       " Text(217.62, 81.53999999999999, 'gini = 0.0\\nsamples = 2\\nvalue = [2, 0]'),\n",
       " Text(225.99, 99.66, 'X[0] <= 0.745\\ngini = 0.083\\nsamples = 23\\nvalue = [1, 22]'),\n",
       " Text(223.2, 81.53999999999999, 'gini = 0.0\\nsamples = 20\\nvalue = [0, 20]'),\n",
       " Text(228.78, 81.53999999999999, 'X[5] <= 0.607\\ngini = 0.444\\nsamples = 3\\nvalue = [1, 2]'),\n",
       " Text(225.99, 63.41999999999999, 'gini = 0.0\\nsamples = 2\\nvalue = [0, 2]'),\n",
       " Text(231.57, 63.41999999999999, 'gini = 0.0\\nsamples = 1\\nvalue = [1, 0]'),\n",
       " Text(287.37, 172.14, 'X[8] <= 0.5\\ngini = 0.219\\nsamples = 256\\nvalue = [32, 224]'),\n",
       " Text(262.9575, 154.01999999999998, 'X[6] <= 0.375\\ngini = 0.432\\nsamples = 76\\nvalue = [24, 52]'),\n",
       " Text(251.1, 135.89999999999998, 'X[4] <= 0.542\\ngini = 0.225\\nsamples = 31\\nvalue = [4, 27]'),\n",
       " Text(245.52, 117.77999999999999, 'X[5] <= 0.836\\ngini = 0.133\\nsamples = 28\\nvalue = [2, 26]'),\n",
       " Text(242.73, 99.66, 'X[3] <= 0.241\\ngini = 0.071\\nsamples = 27\\nvalue = [1, 26]'),\n",
       " Text(239.94, 81.53999999999999, 'X[3] <= 0.233\\ngini = 0.375\\nsamples = 4\\nvalue = [1, 3]'),\n",
       " Text(237.15, 63.41999999999999, 'gini = 0.0\\nsamples = 3\\nvalue = [0, 3]'),\n",
       " Text(242.73, 63.41999999999999, 'gini = 0.0\\nsamples = 1\\nvalue = [1, 0]'),\n",
       " Text(245.52, 81.53999999999999, 'gini = 0.0\\nsamples = 23\\nvalue = [0, 23]'),\n",
       " Text(248.31, 99.66, 'gini = 0.0\\nsamples = 1\\nvalue = [1, 0]'),\n",
       " Text(256.68, 117.77999999999999, 'X[9] <= 0.375\\ngini = 0.444\\nsamples = 3\\nvalue = [2, 1]'),\n",
       " Text(253.89000000000001, 99.66, 'gini = 0.0\\nsamples = 1\\nvalue = [0, 1]'),\n",
       " Text(259.47, 99.66, 'gini = 0.0\\nsamples = 2\\nvalue = [2, 0]'),\n",
       " Text(274.815, 135.89999999999998, 'X[6] <= 0.395\\ngini = 0.494\\nsamples = 45\\nvalue = [20, 25]'),\n",
       " Text(267.84000000000003, 117.77999999999999, 'X[4] <= 0.708\\ngini = 0.444\\nsamples = 15\\nvalue = [10, 5]'),\n",
       " Text(265.05, 99.66, 'X[4] <= 0.367\\ngini = 0.355\\nsamples = 13\\nvalue = [10, 3]'),\n",
       " Text(262.26, 81.53999999999999, 'gini = 0.0\\nsamples = 4\\nvalue = [4, 0]'),\n",
       " Text(267.84000000000003, 81.53999999999999, 'X[4] <= 0.433\\ngini = 0.444\\nsamples = 9\\nvalue = [6, 3]'),\n",
       " Text(265.05, 63.41999999999999, 'X[10] <= 0.25\\ngini = 0.48\\nsamples = 5\\nvalue = [2, 3]'),\n",
       " Text(262.26, 45.29999999999998, 'X[0] <= 0.469\\ngini = 0.444\\nsamples = 3\\nvalue = [2, 1]'),\n",
       " Text(259.47, 27.17999999999998, 'gini = 0.0\\nsamples = 1\\nvalue = [0, 1]'),\n",
       " Text(265.05, 27.17999999999998, 'gini = 0.0\\nsamples = 2\\nvalue = [2, 0]'),\n",
       " Text(267.84000000000003, 45.29999999999998, 'gini = 0.0\\nsamples = 2\\nvalue = [0, 2]'),\n",
       " Text(270.63, 63.41999999999999, 'gini = 0.0\\nsamples = 4\\nvalue = [4, 0]'),\n",
       " Text(270.63, 99.66, 'gini = 0.0\\nsamples = 2\\nvalue = [0, 2]'),\n",
       " Text(281.79, 117.77999999999999, 'X[0] <= 0.602\\ngini = 0.444\\nsamples = 30\\nvalue = [10, 20]'),\n",
       " Text(276.21, 99.66, 'X[4] <= 0.283\\ngini = 0.142\\nsamples = 13\\nvalue = [1, 12]'),\n",
       " Text(273.42, 81.53999999999999, 'gini = 0.0\\nsamples = 1\\nvalue = [1, 0]'),\n",
       " Text(279.0, 81.53999999999999, 'gini = 0.0\\nsamples = 12\\nvalue = [0, 12]'),\n",
       " Text(287.37, 99.66, 'X[3] <= 0.242\\ngini = 0.498\\nsamples = 17\\nvalue = [9, 8]'),\n",
       " Text(284.58, 81.53999999999999, 'gini = 0.0\\nsamples = 5\\nvalue = [0, 5]'),\n",
       " Text(290.16, 81.53999999999999, 'X[6] <= 0.403\\ngini = 0.375\\nsamples = 12\\nvalue = [9, 3]'),\n",
       " Text(287.37, 63.41999999999999, 'gini = 0.0\\nsamples = 1\\nvalue = [0, 1]'),\n",
       " Text(292.95, 63.41999999999999, 'X[3] <= 0.348\\ngini = 0.298\\nsamples = 11\\nvalue = [9, 2]'),\n",
       " Text(290.16, 45.29999999999998, 'X[5] <= 0.553\\ngini = 0.5\\nsamples = 4\\nvalue = [2, 2]'),\n",
       " Text(287.37, 27.17999999999998, 'gini = 0.0\\nsamples = 1\\nvalue = [0, 1]'),\n",
       " Text(292.95, 27.17999999999998, 'X[1] <= 0.5\\ngini = 0.444\\nsamples = 3\\nvalue = [2, 1]'),\n",
       " Text(290.16, 9.059999999999974, 'gini = 0.0\\nsamples = 1\\nvalue = [0, 1]'),\n",
       " Text(295.74, 9.059999999999974, 'gini = 0.0\\nsamples = 2\\nvalue = [2, 0]'),\n",
       " Text(295.74, 45.29999999999998, 'gini = 0.0\\nsamples = 7\\nvalue = [7, 0]'),\n",
       " Text(311.7825, 154.01999999999998, 'X[3] <= 0.155\\ngini = 0.085\\nsamples = 180\\nvalue = [8, 172]'),\n",
       " Text(308.9925, 135.89999999999998, 'gini = 0.0\\nsamples = 1\\nvalue = [1, 0]'),\n",
       " Text(314.5725, 135.89999999999998, 'X[6] <= 0.371\\ngini = 0.075\\nsamples = 179\\nvalue = [7, 172]'),\n",
       " Text(311.7825, 117.77999999999999, 'gini = 0.0\\nsamples = 79\\nvalue = [0, 79]'),\n",
       " Text(317.3625, 117.77999999999999, 'X[3] <= 0.561\\ngini = 0.13\\nsamples = 100\\nvalue = [7, 93]'),\n",
       " Text(308.295, 99.66, 'X[4] <= 0.242\\ngini = 0.071\\nsamples = 81\\nvalue = [3, 78]'),\n",
       " Text(301.32, 81.53999999999999, 'X[0] <= 0.429\\ngini = 0.32\\nsamples = 5\\nvalue = [1, 4]'),\n",
       " Text(298.53000000000003, 63.41999999999999, 'gini = 0.0\\nsamples = 1\\nvalue = [1, 0]'),\n",
       " Text(304.11, 63.41999999999999, 'gini = 0.0\\nsamples = 4\\nvalue = [0, 4]'),\n",
       " Text(315.27, 81.53999999999999, 'X[6] <= 0.386\\ngini = 0.051\\nsamples = 76\\nvalue = [2, 74]'),\n",
       " Text(309.69, 63.41999999999999, 'X[9] <= 0.375\\ngini = 0.245\\nsamples = 7\\nvalue = [1, 6]'),\n",
       " Text(306.9, 45.29999999999998, 'gini = 0.0\\nsamples = 1\\nvalue = [1, 0]'),\n",
       " Text(312.48, 45.29999999999998, 'gini = 0.0\\nsamples = 6\\nvalue = [0, 6]'),\n",
       " Text(320.85, 63.41999999999999, 'X[5] <= 0.305\\ngini = 0.029\\nsamples = 69\\nvalue = [1, 68]'),\n",
       " Text(318.06, 45.29999999999998, 'X[1] <= 0.5\\ngini = 0.165\\nsamples = 11\\nvalue = [1, 10]'),\n",
       " Text(315.27, 27.17999999999998, 'gini = 0.0\\nsamples = 1\\nvalue = [1, 0]'),\n",
       " Text(320.85, 27.17999999999998, 'gini = 0.0\\nsamples = 10\\nvalue = [0, 10]'),\n",
       " Text(323.64, 45.29999999999998, 'gini = 0.0\\nsamples = 58\\nvalue = [0, 58]'),\n",
       " Text(326.43, 99.66, 'X[0] <= 0.582\\ngini = 0.332\\nsamples = 19\\nvalue = [4, 15]'),\n",
       " Text(323.64, 81.53999999999999, 'gini = 0.0\\nsamples = 14\\nvalue = [0, 14]'),\n",
       " Text(329.22, 81.53999999999999, 'X[4] <= 0.75\\ngini = 0.32\\nsamples = 5\\nvalue = [4, 1]'),\n",
       " Text(326.43, 63.41999999999999, 'gini = 0.0\\nsamples = 4\\nvalue = [4, 0]'),\n",
       " Text(332.01, 63.41999999999999, 'gini = 0.0\\nsamples = 1\\nvalue = [0, 1]')]"
      ]
     },
     "execution_count": 168,
     "metadata": {},
     "output_type": "execute_result"
    },
    {
     "data": {
      "image/png": "[encoded data removed]",
      "text/plain": [
       "<Figure size 432x288 with 1 Axes>"
      ]
     },
     "metadata": {
      "needs_background": "light"
     },
     "output_type": "display_data"
    }
   ],
   "source": [
    "tree.plot_tree(classify)"
   ]
  },
  {
   "cell_type": "markdown",
   "id": "cd5f4488",
   "metadata": {},
   "source": [
    "# Measure Performance metrix"
   ]
  },
  {
   "cell_type": "code",
   "execution_count": 169,
   "id": "a7483b43",
   "metadata": {},
   "outputs": [
    {
     "data": {
      "text/plain": [
       "array([[110,  37],\n",
       "       [ 39, 114]], dtype=int64)"
      ]
     },
     "execution_count": 169,
     "metadata": {},
     "output_type": "execute_result"
    }
   ],
   "source": [
    "cm = confusion_matrix(Y_test, predict)\n",
    "cm"
   ]
  },
  {
   "cell_type": "code",
   "execution_count": 170,
   "id": "81ea3633",
   "metadata": {},
   "outputs": [
    {
     "name": "stdout",
     "output_type": "stream",
     "text": [
      "              precision    recall  f1-score   support\n",
      "\n",
      "           0       0.74      0.75      0.74       147\n",
      "           1       0.75      0.75      0.75       153\n",
      "\n",
      "    accuracy                           0.75       300\n",
      "   macro avg       0.75      0.75      0.75       300\n",
      "weighted avg       0.75      0.75      0.75       300\n",
      "\n"
     ]
    }
   ],
   "source": [
    "print(classification_report(Y_test ,predict))"
   ]
  },
  {
   "cell_type": "code",
   "execution_count": 171,
   "id": "6925beea",
   "metadata": {},
   "outputs": [
    {
     "data": {
      "image/png": "[encoded data removed]",
      "text/plain": [
       "<Figure size 504x504 with 1 Axes>"
      ]
     },
     "metadata": {
      "needs_background": "light"
     },
     "output_type": "display_data"
    },
    {
     "data": {
      "image/png": "[encoded data removed]",
      "text/plain": [
       "<Figure size 504x504 with 1 Axes>"
      ]
     },
     "metadata": {
      "needs_background": "light"
     },
     "output_type": "display_data"
    }
   ],
   "source": [
    "plt.figure(figsize=(7,7))\n",
    "plt.scatter(Y_test,predict,s=15)\n",
    "plt.xlabel('Actual',fontsize=14)\n",
    "plt.ylabel('Predict',fontsize=14)\n",
    "plt.title('Decision Tree Actual vs Predict')\n",
    "plt.show()\n",
    "df = pd.DataFrame({'Actual': Y_test, 'Predicted': predict})\n",
    "df.plot(kind='bar',figsize=(7,7),xlabel='Test Data',ylabel='Cardio',title='Decision Tree')\n",
    "plt.show()"
   ]
  },
  {
   "cell_type": "code",
   "execution_count": 172,
   "id": "3973cf27",
   "metadata": {},
   "outputs": [
    {
     "data": {
      "text/plain": [
       "Text(69.0, 0.5, 'Truth')"
      ]
     },
     "execution_count": 172,
     "metadata": {},
     "output_type": "execute_result"
    },
    {
     "data": {
      "image/png": "[encoded data removed]",
      "text/plain": [
       "<Figure size 720x504 with 2 Axes>"
      ]
     },
     "metadata": {
      "needs_background": "light"
     },
     "output_type": "display_data"
    }
   ],
   "source": [
    "plt.figure(figsize=(10,7))\n",
    "sns.heatmap(cm, annot=True)\n",
    "plt.xlabel('Predicted')\n",
    "plt.ylabel('Truth')"
   ]
  },
  {
   "cell_type": "code",
   "execution_count": null,
   "id": "1ef759ba",
   "metadata": {},
   "outputs": [],
   "source": []
  }
 ],
 "metadata": {
  "kernelspec": {
   "display_name": "Python 3",
   "language": "python",
   "name": "python3"
  },
  "language_info": {
   "codemirror_mode": {
    "name": "ipython",
    "version": 3
   },
   "file_extension": ".py",
   "mimetype": "text/x-python",
   "name": "python",
   "nbconvert_exporter": "python",
   "pygments_lexer": "ipython3",
   "version": "3.8.8"
  }
 },
 "nbformat": 4,
 "nbformat_minor": 5
}
